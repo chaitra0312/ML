{
  "nbformat": 4,
  "nbformat_minor": 0,
  "metadata": {
    "colab": {
      "provenance": [],
      "authorship_tag": "ABX9TyOu4vx63qVDiT8Pnw3m0nhX",
      "include_colab_link": true
    },
    "kernelspec": {
      "name": "python3",
      "display_name": "Python 3"
    },
    "language_info": {
      "name": "python"
    }
  },
  "cells": [
    {
      "cell_type": "markdown",
      "metadata": {
        "id": "view-in-github",
        "colab_type": "text"
      },
      "source": [
        "<a href=\"https://colab.research.google.com/github/chaitra0312/ML-workshop-/blob/main/EDA.ipynb\" target=\"_parent\"><img src=\"https://colab.research.google.com/assets/colab-badge.svg\" alt=\"Open In Colab\"/></a>"
      ]
    },
    {
      "cell_type": "markdown",
      "source": [
        "# EFFECTS OF COVID-19"
      ],
      "metadata": {
        "id": "hk2fjOH62oj9"
      }
    },
    {
      "cell_type": "code",
      "source": [
        "import pandas as pd\n",
        "import numpy as np\n",
        "import matplotlib.pyplot as plt\n",
        "import seaborn as sns\n",
        "data=pd.read_csv('/content/effects-of-covid-19-on-trade-at-15-december-2021-provisional.csv',encoding='latin-1')\n"
      ],
      "metadata": {
        "id": "QKlD0wY74tBJ"
      },
      "execution_count": 1,
      "outputs": []
    },
    {
      "cell_type": "markdown",
      "source": [
        "In this we imported the required library's Pandas,Numpy, Matplotlib and Seaborn , and we have inserted the csv file of Covid-19 on trade at 15 december 2021"
      ],
      "metadata": {
        "id": "OZDvv6uCBwdX"
      }
    },
    {
      "cell_type": "markdown",
      "source": [
        "#  Inspect the dataset\n"
      ],
      "metadata": {
        "id": "tcFpTrjaUOSA"
      }
    },
    {
      "cell_type": "markdown",
      "source": [
        "##Dataset Shape"
      ],
      "metadata": {
        "id": "IGii1WK-UTNN"
      }
    },
    {
      "cell_type": "code",
      "source": [
        "print(\"Dataset Shape:\", data.shape)"
      ],
      "metadata": {
        "colab": {
          "base_uri": "https://localhost:8080/"
        },
        "id": "zeBrVB3BUXN4",
        "outputId": "9f822cdc-84b2-4291-f6fa-c501f9138bbe"
      },
      "execution_count": null,
      "outputs": [
        {
          "output_type": "stream",
          "name": "stdout",
          "text": [
            "Dataset Shape: (111438, 10)\n"
          ]
        }
      ]
    },
    {
      "cell_type": "markdown",
      "source": [
        "Here, the shape of the dataset is printed. we have the 10 column's and 111438 rows or records are presented."
      ],
      "metadata": {
        "id": "QaMywWPGCU6R"
      }
    },
    {
      "cell_type": "markdown",
      "source": [
        "##First 5 rows of the dataset"
      ],
      "metadata": {
        "id": "kPV-ZsMhUh0Y"
      }
    },
    {
      "cell_type": "code",
      "source": [
        "print(data.head())"
      ],
      "metadata": {
        "colab": {
          "base_uri": "https://localhost:8080/"
        },
        "id": "kdQKU5IZUlhe",
        "outputId": "cb09d575-e2c5-4733-b3e1-bfd7f442308f"
      },
      "execution_count": null,
      "outputs": [
        {
          "output_type": "stream",
          "name": "stdout",
          "text": [
            "  Direction  Year        Date   Weekday Country Commodity Transport_Mode  \\\n",
            "0   Exports  2015  01/01/2015  Thursday     All       All            All   \n",
            "1   Exports  2015  02/01/2015    Friday     All       All            All   \n",
            "2   Exports  2015  03/01/2015  Saturday     All       All            All   \n",
            "3   Exports  2015  04/01/2015    Sunday     All       All            All   \n",
            "4   Exports  2015  05/01/2015    Monday     All       All            All   \n",
            "\n",
            "  Measure      Value  Cumulative  \n",
            "0       $  104000000   104000000  \n",
            "1       $   96000000   200000000  \n",
            "2       $   61000000   262000000  \n",
            "3       $   74000000   336000000  \n",
            "4       $  105000000   442000000  \n"
          ]
        }
      ]
    },
    {
      "cell_type": "markdown",
      "source": [
        "The first five records are generated using the function called head()."
      ],
      "metadata": {
        "id": "8umxzYcbC6Jf"
      }
    },
    {
      "cell_type": "markdown",
      "source": [
        "##Column Info"
      ],
      "metadata": {
        "id": "OC7k09VhUp5P"
      }
    },
    {
      "cell_type": "code",
      "source": [
        "print(data.info())"
      ],
      "metadata": {
        "colab": {
          "base_uri": "https://localhost:8080/"
        },
        "id": "P5d0eXGVUs6C",
        "outputId": "f1bef91d-d3c8-4cc1-ef3f-77b998f22e6d"
      },
      "execution_count": null,
      "outputs": [
        {
          "output_type": "stream",
          "name": "stdout",
          "text": [
            "<class 'pandas.core.frame.DataFrame'>\n",
            "RangeIndex: 111438 entries, 0 to 111437\n",
            "Data columns (total 10 columns):\n",
            " #   Column          Non-Null Count   Dtype \n",
            "---  ------          --------------   ----- \n",
            " 0   Direction       111438 non-null  object\n",
            " 1   Year            111438 non-null  int64 \n",
            " 2   Date            111438 non-null  object\n",
            " 3   Weekday         111438 non-null  object\n",
            " 4   Country         111438 non-null  object\n",
            " 5   Commodity       111438 non-null  object\n",
            " 6   Transport_Mode  111438 non-null  object\n",
            " 7   Measure         111438 non-null  object\n",
            " 8   Value           111438 non-null  int64 \n",
            " 9   Cumulative      111438 non-null  int64 \n",
            "dtypes: int64(3), object(7)\n",
            "memory usage: 8.5+ MB\n",
            "None\n"
          ]
        }
      ]
    },
    {
      "cell_type": "markdown",
      "source": [
        "In this we got the information about index , column, non-null,count and datatype's of the dataset.For this info function is used."
      ],
      "metadata": {
        "id": "4Nx4-UF4DQ7a"
      }
    },
    {
      "cell_type": "markdown",
      "source": [
        "##Statistics"
      ],
      "metadata": {
        "id": "aNRv6wZkU1Mn"
      }
    },
    {
      "cell_type": "code",
      "source": [
        "print(data.describe())"
      ],
      "metadata": {
        "colab": {
          "base_uri": "https://localhost:8080/"
        },
        "id": "-cDCRkpbU330",
        "outputId": "6410d089-286b-4255-ee5e-b03342aa345a"
      },
      "execution_count": null,
      "outputs": [
        {
          "output_type": "stream",
          "name": "stdout",
          "text": [
            "                Year         Value    Cumulative\n",
            "count  111438.000000  1.114380e+05  1.114380e+05\n",
            "mean     2017.982430  2.905750e+07  5.174254e+09\n",
            "std         1.992352  5.267248e+07  9.765606e+09\n",
            "min      2015.000000  0.000000e+00  0.000000e+00\n",
            "25%      2016.000000  1.000000e+06  1.140000e+08\n",
            "50%      2018.000000  8.000000e+06  1.420000e+09\n",
            "75%      2020.000000  2.800000e+07  4.797000e+09\n",
            "max      2021.000000  5.490000e+08  6.718000e+10\n"
          ]
        }
      ]
    },
    {
      "cell_type": "markdown",
      "source": [
        "The discribe method is for the it is the mathematical calculation of the numerical column the aggregated values are obtained for the numerical column's.The describe function is used for numerical caluculations and aggregate function method calculation"
      ],
      "metadata": {
        "id": "qX6mfS52Djip"
      }
    },
    {
      "cell_type": "markdown",
      "source": [
        "#  Check for missing values"
      ],
      "metadata": {
        "id": "mNiCADehU7R4"
      }
    },
    {
      "cell_type": "markdown",
      "source": [
        "##Missing Values"
      ],
      "metadata": {
        "id": "cAjMTEqqU_vS"
      }
    },
    {
      "cell_type": "code",
      "source": [
        "print(data.isnull().sum())"
      ],
      "metadata": {
        "colab": {
          "base_uri": "https://localhost:8080/"
        },
        "id": "Xvb4n8FsVCes",
        "outputId": "4489796e-a8b6-4dc1-b2a9-d90ec09e114c"
      },
      "execution_count": null,
      "outputs": [
        {
          "output_type": "stream",
          "name": "stdout",
          "text": [
            "Direction         0\n",
            "Year              0\n",
            "Date              0\n",
            "Weekday           0\n",
            "Country           0\n",
            "Commodity         0\n",
            "Transport_Mode    0\n",
            "Measure           0\n",
            "Value             0\n",
            "Cumulative        0\n",
            "dtype: int64\n"
          ]
        }
      ]
    },
    {
      "cell_type": "markdown",
      "source": [
        "Checking for the Null values or Missing values for this data set there are no Null values so , the dataset is good beacause there is no loss of information in any column or record in the dataset"
      ],
      "metadata": {
        "id": "p5wsOZYNEUy0"
      }
    },
    {
      "cell_type": "markdown",
      "source": [
        "##Missing Values Heatmap"
      ],
      "metadata": {
        "id": "BlnPj8hkVHWa"
      }
    },
    {
      "cell_type": "code",
      "source": [
        "sns.heatmap(data.isnull(), cmap='viridis')\n",
        "plt.title('Missing Values Heatmap')\n",
        "plt.show()"
      ],
      "metadata": {
        "colab": {
          "base_uri": "https://localhost:8080/",
          "height": 548
        },
        "id": "P_Y1J6lnVMND",
        "outputId": "2aff24a4-9c68-4a85-be61-fc826b3b4fc3"
      },
      "execution_count": null,
      "outputs": [
        {
          "output_type": "display_data",
          "data": {
            "text/plain": [
              "<Figure size 640x480 with 2 Axes>"
            ],
            "image/png": "[encoded data removed]"
          },
          "metadata": {}
        }
      ]
    },
    {
      "cell_type": "markdown",
      "source": [
        "This is the representation of a Heatmap there is no such value is not exist,all the records are filled with respective values so there is no missing value in\n",
        "any column of dataset"
      ],
      "metadata": {
        "id": "zd4Av3IEE3qU"
      }
    },
    {
      "cell_type": "code",
      "source": [
        "data.tail()"
      ],
      "metadata": {
        "colab": {
          "base_uri": "https://localhost:8080/",
          "height": 313
        },
        "id": "_dnBtuVCHmwc",
        "outputId": "353b9732-0faf-44e6-b223-0ce81454382e"
      },
      "execution_count": null,
      "outputs": [
        {
          "output_type": "execute_result",
          "data": {
            "text/plain": [
              "                                              Variable Breakdown  \\\n",
              "42522  _95_Total_RD_Expenditure_as_a_proportion_of_GDP   Country   \n",
              "42523  _95_Total_RD_Expenditure_as_a_proportion_of_GDP   Country   \n",
              "42524  _95_Total_RD_Expenditure_as_a_proportion_of_GDP   Country   \n",
              "42525  _95_Total_RD_Expenditure_as_a_proportion_of_GDP   Country   \n",
              "42526  _95_Total_RD_Expenditure_as_a_proportion_of_GDP   Country   \n",
              "\n",
              "      Breakdown_category  Year RD_Value Status               Unit  Footnotes  \\\n",
              "42522      United States  2017      2.9    NaN  Percentage of GDP  33 and 34   \n",
              "42523      United States  2018     3.01    NaN  Percentage of GDP  33 and 34   \n",
              "42524      United States  2019     3.17    NaN  Percentage of GDP  33 and 34   \n",
              "42525      United States  2020     3.47    NaN  Percentage of GDP  33 and 34   \n",
              "42526      United States  2021     3.46    NaN  Percentage of GDP  33 and 34   \n",
              "\n",
              "      Relative_Sampling_Error  \n",
              "42522                       .  \n",
              "42523                       .  \n",
              "42524                       .  \n",
              "42525                       .  \n",
              "42526                       .  "
            ],
            "text/html": [
              "\n",
              "  <div id=\"df-0184dd36-47d7-46be-a01a-77873fdcebd0\" class=\"colab-df-container\">\n",
              "    <div>\n",
              "<style scoped>\n",
              "    .dataframe tbody tr th:only-of-type {\n",
              "        vertical-align: middle;\n",
              "    }\n",
              "\n",
              "    .dataframe tbody tr th {\n",
              "        vertical-align: top;\n",
              "    }\n",
              "\n",
              "    .dataframe thead th {\n",
              "        text-align: right;\n",
              "    }\n",
              "</style>\n",
              "<table border=\"1\" class=\"dataframe\">\n",
              "  <thead>\n",
              "    <tr style=\"text-align: right;\">\n",
              "      <th></th>\n",
              "      <th>Variable</th>\n",
              "      <th>Breakdown</th>\n",
              "      <th>Breakdown_category</th>\n",
              "      <th>Year</th>\n",
              "      <th>RD_Value</th>\n",
              "      <th>Status</th>\n",
              "      <th>Unit</th>\n",
              "      <th>Footnotes</th>\n",
              "      <th>Relative_Sampling_Error</th>\n",
              "    </tr>\n",
              "  </thead>\n",
              "  <tbody>\n",
              "    <tr>\n",
              "      <th>42522</th>\n",
              "      <td>_95_Total_RD_Expenditure_as_a_proportion_of_GDP</td>\n",
              "      <td>Country</td>\n",
              "      <td>United States</td>\n",
              "      <td>2017</td>\n",
              "      <td>2.9</td>\n",
              "      <td>NaN</td>\n",
              "      <td>Percentage of GDP</td>\n",
              "      <td>33 and 34</td>\n",
              "      <td>.</td>\n",
              "    </tr>\n",
              "    <tr>\n",
              "      <th>42523</th>\n",
              "      <td>_95_Total_RD_Expenditure_as_a_proportion_of_GDP</td>\n",
              "      <td>Country</td>\n",
              "      <td>United States</td>\n",
              "      <td>2018</td>\n",
              "      <td>3.01</td>\n",
              "      <td>NaN</td>\n",
              "      <td>Percentage of GDP</td>\n",
              "      <td>33 and 34</td>\n",
              "      <td>.</td>\n",
              "    </tr>\n",
              "    <tr>\n",
              "      <th>42524</th>\n",
              "      <td>_95_Total_RD_Expenditure_as_a_proportion_of_GDP</td>\n",
              "      <td>Country</td>\n",
              "      <td>United States</td>\n",
              "      <td>2019</td>\n",
              "      <td>3.17</td>\n",
              "      <td>NaN</td>\n",
              "      <td>Percentage of GDP</td>\n",
              "      <td>33 and 34</td>\n",
              "      <td>.</td>\n",
              "    </tr>\n",
              "    <tr>\n",
              "      <th>42525</th>\n",
              "      <td>_95_Total_RD_Expenditure_as_a_proportion_of_GDP</td>\n",
              "      <td>Country</td>\n",
              "      <td>United States</td>\n",
              "      <td>2020</td>\n",
              "      <td>3.47</td>\n",
              "      <td>NaN</td>\n",
              "      <td>Percentage of GDP</td>\n",
              "      <td>33 and 34</td>\n",
              "      <td>.</td>\n",
              "    </tr>\n",
              "    <tr>\n",
              "      <th>42526</th>\n",
              "      <td>_95_Total_RD_Expenditure_as_a_proportion_of_GDP</td>\n",
              "      <td>Country</td>\n",
              "      <td>United States</td>\n",
              "      <td>2021</td>\n",
              "      <td>3.46</td>\n",
              "      <td>NaN</td>\n",
              "      <td>Percentage of GDP</td>\n",
              "      <td>33 and 34</td>\n",
              "      <td>.</td>\n",
              "    </tr>\n",
              "  </tbody>\n",
              "</table>\n",
              "</div>\n",
              "    <div class=\"colab-df-buttons\">\n",
              "\n",
              "  <div class=\"colab-df-container\">\n",
              "    <button class=\"colab-df-convert\" onclick=\"convertToInteractive('df-0184dd36-47d7-46be-a01a-77873fdcebd0')\"\n",
              "            title=\"Convert this dataframe to an interactive table.\"\n",
              "            style=\"display:none;\">\n",
              "\n",
              "  <svg xmlns=\"http://www.w3.org/2000/svg\" height=\"24px\" viewBox=\"0 -960 960 960\">\n",
              "    <path d=\"M120-120v-720h720v720H120Zm60-500h600v-160H180v160Zm220 220h160v-160H400v160Zm0 220h160v-160H400v160ZM180-400h160v-160H180v160Zm440 0h160v-160H620v160ZM180-180h160v-160H180v160Zm440 0h160v-160H620v160Z\"/>\n",
              "  </svg>\n",
              "    </button>\n",
              "\n",
              "  <style>\n",
              "    .colab-df-container {\n",
              "      display:flex;\n",
              "      gap: 12px;\n",
              "    }\n",
              "\n",
              "    .colab-df-convert {\n",
              "      background-color: #E8F0FE;\n",
              "      border: none;\n",
              "      border-radius: 50%;\n",
              "      cursor: pointer;\n",
              "      display: none;\n",
              "      fill: #1967D2;\n",
              "      height: 32px;\n",
              "      padding: 0 0 0 0;\n",
              "      width: 32px;\n",
              "    }\n",
              "\n",
              "    .colab-df-convert:hover {\n",
              "      background-color: #E2EBFA;\n",
              "      box-shadow: 0px 1px 2px rgba(60, 64, 67, 0.3), 0px 1px 3px 1px rgba(60, 64, 67, 0.15);\n",
              "      fill: #174EA6;\n",
              "    }\n",
              "\n",
              "    .colab-df-buttons div {\n",
              "      margin-bottom: 4px;\n",
              "    }\n",
              "\n",
              "    [theme=dark] .colab-df-convert {\n",
              "      background-color: #3B4455;\n",
              "      fill: #D2E3FC;\n",
              "    }\n",
              "\n",
              "    [theme=dark] .colab-df-convert:hover {\n",
              "      background-color: #434B5C;\n",
              "      box-shadow: 0px 1px 3px 1px rgba(0, 0, 0, 0.15);\n",
              "      filter: drop-shadow(0px 1px 2px rgba(0, 0, 0, 0.3));\n",
              "      fill: #FFFFFF;\n",
              "    }\n",
              "  </style>\n",
              "\n",
              "    <script>\n",
              "      const buttonEl =\n",
              "        document.querySelector('#df-0184dd36-47d7-46be-a01a-77873fdcebd0 button.colab-df-convert');\n",
              "      buttonEl.style.display =\n",
              "        google.colab.kernel.accessAllowed ? 'block' : 'none';\n",
              "\n",
              "      async function convertToInteractive(key) {\n",
              "        const element = document.querySelector('#df-0184dd36-47d7-46be-a01a-77873fdcebd0');\n",
              "        const dataTable =\n",
              "          await google.colab.kernel.invokeFunction('convertToInteractive',\n",
              "                                                    [key], {});\n",
              "        if (!dataTable) return;\n",
              "\n",
              "        const docLinkHtml = 'Like what you see? Visit the ' +\n",
              "          '<a target=\"_blank\" href=https://colab.research.google.com/notebooks/data_table.ipynb>data table notebook</a>'\n",
              "          + ' to learn more about interactive tables.';\n",
              "        element.innerHTML = '';\n",
              "        dataTable['output_type'] = 'display_data';\n",
              "        await google.colab.output.renderOutput(dataTable, element);\n",
              "        const docLink = document.createElement('div');\n",
              "        docLink.innerHTML = docLinkHtml;\n",
              "        element.appendChild(docLink);\n",
              "      }\n",
              "    </script>\n",
              "  </div>\n",
              "\n",
              "\n",
              "<div id=\"df-d95823c9-0be1-4fdc-9377-2d5676934914\">\n",
              "  <button class=\"colab-df-quickchart\" onclick=\"quickchart('df-d95823c9-0be1-4fdc-9377-2d5676934914')\"\n",
              "            title=\"Suggest charts\"\n",
              "            style=\"display:none;\">\n",
              "\n",
              "<svg xmlns=\"http://www.w3.org/2000/svg\" height=\"24px\"viewBox=\"0 0 24 24\"\n",
              "     width=\"24px\">\n",
              "    <g>\n",
              "        <path d=\"M19 3H5c-1.1 0-2 .9-2 2v14c0 1.1.9 2 2 2h14c1.1 0 2-.9 2-2V5c0-1.1-.9-2-2-2zM9 17H7v-7h2v7zm4 0h-2V7h2v10zm4 0h-2v-4h2v4z\"/>\n",
              "    </g>\n",
              "</svg>\n",
              "  </button>\n",
              "\n",
              "<style>\n",
              "  .colab-df-quickchart {\n",
              "      --bg-color: #E8F0FE;\n",
              "      --fill-color: #1967D2;\n",
              "      --hover-bg-color: #E2EBFA;\n",
              "      --hover-fill-color: #174EA6;\n",
              "      --disabled-fill-color: #AAA;\n",
              "      --disabled-bg-color: #DDD;\n",
              "  }\n",
              "\n",
              "  [theme=dark] .colab-df-quickchart {\n",
              "      --bg-color: #3B4455;\n",
              "      --fill-color: #D2E3FC;\n",
              "      --hover-bg-color: #434B5C;\n",
              "      --hover-fill-color: #FFFFFF;\n",
              "      --disabled-bg-color: #3B4455;\n",
              "      --disabled-fill-color: #666;\n",
              "  }\n",
              "\n",
              "  .colab-df-quickchart {\n",
              "    background-color: var(--bg-color);\n",
              "    border: none;\n",
              "    border-radius: 50%;\n",
              "    cursor: pointer;\n",
              "    display: none;\n",
              "    fill: var(--fill-color);\n",
              "    height: 32px;\n",
              "    padding: 0;\n",
              "    width: 32px;\n",
              "  }\n",
              "\n",
              "  .colab-df-quickchart:hover {\n",
              "    background-color: var(--hover-bg-color);\n",
              "    box-shadow: 0 1px 2px rgba(60, 64, 67, 0.3), 0 1px 3px 1px rgba(60, 64, 67, 0.15);\n",
              "    fill: var(--button-hover-fill-color);\n",
              "  }\n",
              "\n",
              "  .colab-df-quickchart-complete:disabled,\n",
              "  .colab-df-quickchart-complete:disabled:hover {\n",
              "    background-color: var(--disabled-bg-color);\n",
              "    fill: var(--disabled-fill-color);\n",
              "    box-shadow: none;\n",
              "  }\n",
              "\n",
              "  .colab-df-spinner {\n",
              "    border: 2px solid var(--fill-color);\n",
              "    border-color: transparent;\n",
              "    border-bottom-color: var(--fill-color);\n",
              "    animation:\n",
              "      spin 1s steps(1) infinite;\n",
              "  }\n",
              "\n",
              "  @keyframes spin {\n",
              "    0% {\n",
              "      border-color: transparent;\n",
              "      border-bottom-color: var(--fill-color);\n",
              "      border-left-color: var(--fill-color);\n",
              "    }\n",
              "    20% {\n",
              "      border-color: transparent;\n",
              "      border-left-color: var(--fill-color);\n",
              "      border-top-color: var(--fill-color);\n",
              "    }\n",
              "    30% {\n",
              "      border-color: transparent;\n",
              "      border-left-color: var(--fill-color);\n",
              "      border-top-color: var(--fill-color);\n",
              "      border-right-color: var(--fill-color);\n",
              "    }\n",
              "    40% {\n",
              "      border-color: transparent;\n",
              "      border-right-color: var(--fill-color);\n",
              "      border-top-color: var(--fill-color);\n",
              "    }\n",
              "    60% {\n",
              "      border-color: transparent;\n",
              "      border-right-color: var(--fill-color);\n",
              "    }\n",
              "    80% {\n",
              "      border-color: transparent;\n",
              "      border-right-color: var(--fill-color);\n",
              "      border-bottom-color: var(--fill-color);\n",
              "    }\n",
              "    90% {\n",
              "      border-color: transparent;\n",
              "      border-bottom-color: var(--fill-color);\n",
              "    }\n",
              "  }\n",
              "</style>\n",
              "\n",
              "  <script>\n",
              "    async function quickchart(key) {\n",
              "      const quickchartButtonEl =\n",
              "        document.querySelector('#' + key + ' button');\n",
              "      quickchartButtonEl.disabled = true;  // To prevent multiple clicks.\n",
              "      quickchartButtonEl.classList.add('colab-df-spinner');\n",
              "      try {\n",
              "        const charts = await google.colab.kernel.invokeFunction(\n",
              "            'suggestCharts', [key], {});\n",
              "      } catch (error) {\n",
              "        console.error('Error during call to suggestCharts:', error);\n",
              "      }\n",
              "      quickchartButtonEl.classList.remove('colab-df-spinner');\n",
              "      quickchartButtonEl.classList.add('colab-df-quickchart-complete');\n",
              "    }\n",
              "    (() => {\n",
              "      let quickchartButtonEl =\n",
              "        document.querySelector('#df-d95823c9-0be1-4fdc-9377-2d5676934914 button');\n",
              "      quickchartButtonEl.style.display =\n",
              "        google.colab.kernel.accessAllowed ? 'block' : 'none';\n",
              "    })();\n",
              "  </script>\n",
              "</div>\n",
              "\n",
              "    </div>\n",
              "  </div>\n"
            ],
            "application/vnd.google.colaboratory.intrinsic+json": {
              "type": "dataframe",
              "repr_error": "0"
            }
          },
          "metadata": {},
          "execution_count": 17
        }
      ]
    },
    {
      "cell_type": "markdown",
      "source": [
        "The last five records of the dataset"
      ],
      "metadata": {
        "id": "8q9-mDASFaxo"
      }
    },
    {
      "cell_type": "markdown",
      "source": [
        "##Boxplot"
      ],
      "metadata": {
        "id": "xanXIuV_G0vy"
      }
    },
    {
      "cell_type": "code",
      "source": [
        "sns.boxplot(data.isnull())\n",
        "plt.title('Box plot')\n",
        "plt.show()"
      ],
      "metadata": {
        "colab": {
          "base_uri": "https://localhost:8080/",
          "height": 452
        },
        "id": "jkipjMisH66j",
        "outputId": "bc23744b-3f5b-497a-df19-fa7b008210f6"
      },
      "execution_count": 5,
      "outputs": [
        {
          "output_type": "display_data",
          "data": {
            "text/plain": [
              "<Figure size 640x480 with 1 Axes>"
            ],
            "image/png": "[encoded data removed]"
          },
          "metadata": {}
        }
      ]
    },
    {
      "cell_type": "markdown",
      "source": [
        "This is the representation of the Boxplot beacause of no Null values the line shows at 0.00"
      ],
      "metadata": {
        "id": "rOE6tIf1GdGm"
      }
    },
    {
      "cell_type": "markdown",
      "source": [
        "##Scatter plot"
      ],
      "metadata": {
        "id": "7SY66X40Gv8V"
      }
    },
    {
      "cell_type": "code",
      "source": [
        "sns.scatterplot(data.isnull())\n",
        "plt.title('Scatter plot')\n",
        "plt.show()"
      ],
      "metadata": {
        "colab": {
          "base_uri": "https://localhost:8080/",
          "height": 507
        },
        "id": "6ewqJhfMGy2k",
        "outputId": "7a00e2eb-f44b-412d-9c0c-11462ecc540d"
      },
      "execution_count": 7,
      "outputs": [
        {
          "output_type": "stream",
          "name": "stderr",
          "text": [
            "/usr/local/lib/python3.10/dist-packages/IPython/core/pylabtools.py:151: UserWarning: Creating legend with loc=\"best\" can be slow with large amounts of data.\n",
            "  fig.canvas.print_figure(bytes_io, **kw)\n"
          ]
        },
        {
          "output_type": "display_data",
          "data": {
            "text/plain": [
              "<Figure size 640x480 with 1 Axes>"
            ],
            "image/png": "[encoded data removed]"
          },
          "metadata": {}
        }
      ]
    }
  ]
}