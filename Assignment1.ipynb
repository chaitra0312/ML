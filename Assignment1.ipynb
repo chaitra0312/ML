{
  "nbformat": 4,
  "nbformat_minor": 0,
  "metadata": {
    "colab": {
      "provenance": [],
      "include_colab_link": true
    },
    "kernelspec": {
      "name": "python3",
      "display_name": "Python 3"
    },
    "language_info": {
      "name": "python"
    }
  },
  "cells": [
    {
      "cell_type": "markdown",
      "metadata": {
        "id": "view-in-github",
        "colab_type": "text"
      },
      "source": [
        "<a href=\"https://colab.research.google.com/github/chaitra0312/tech/blob/main/Assignment1.ipynb\" target=\"_parent\"><img src=\"https://colab.research.google.com/assets/colab-badge.svg\" alt=\"Open In Colab\"/></a>"
      ]
    },
    {
      "cell_type": "markdown",
      "source": [
        "#Arthimtic Operations"
      ],
      "metadata": {
        "id": "aUfSwNmOwSE_"
      }
    },
    {
      "cell_type": "code",
      "source": [
        "import numpy as np\n",
        "a=np.array([[1,2,3],[4,5,6]])\n",
        "b=np.array([[7,8,5],[6,2,3]])\n",
        "print(a+b)\n",
        "print(a-b)\n",
        "print(a*b)\n",
        "print(a/b)"
      ],
      "metadata": {
        "colab": {
          "base_uri": "https://localhost:8080/"
        },
        "id": "-_zV6rRywoD1",
        "outputId": "f8438b22-dbce-4023-f04f-3052b07344a8"
      },
      "execution_count": null,
      "outputs": [
        {
          "output_type": "stream",
          "name": "stdout",
          "text": [
            "[[ 8 10  8]\n",
            " [10  7  9]]\n",
            "[[-6 -6 -2]\n",
            " [-2  3  3]]\n",
            "[[ 7 16 15]\n",
            " [24 10 18]]\n",
            "[[0.14285714 0.25       0.6       ]\n",
            " [0.66666667 2.5        2.        ]]\n"
          ]
        }
      ]
    },
    {
      "cell_type": "markdown",
      "source": [
        "#Mean And Standard Deviation"
      ],
      "metadata": {
        "id": "VDLu-19QxePT"
      }
    },
    {
      "cell_type": "code",
      "source": [
        "a=np.array([1,2,3])\n",
        "print(np.mean(a))\n",
        "print(np.std(a))"
      ],
      "metadata": {
        "colab": {
          "base_uri": "https://localhost:8080/"
        },
        "id": "989P43zaxkaQ",
        "outputId": "1da448c4-4dc1-4522-bcf0-f84287f6dd5c"
      },
      "execution_count": null,
      "outputs": [
        {
          "output_type": "stream",
          "name": "stdout",
          "text": [
            "2.0\n",
            "0.816496580927726\n"
          ]
        }
      ]
    },
    {
      "cell_type": "markdown",
      "source": [
        "# NumPy array of integers from 10 to 50 with a step size of 5"
      ],
      "metadata": {
        "id": "_KZMJidKx1U-"
      }
    },
    {
      "cell_type": "code",
      "source": [
        "a=np.arange(10,51,5)\n",
        "print(a)\n"
      ],
      "metadata": {
        "colab": {
          "base_uri": "https://localhost:8080/"
        },
        "id": "7fafur5VyC35",
        "outputId": "cee3f976-8b8a-4604-e63e-d28e21427830"
      },
      "execution_count": null,
      "outputs": [
        {
          "output_type": "stream",
          "name": "stdout",
          "text": [
            "[10 15 20 25 30 35 40 45 50]\n"
          ]
        }
      ]
    },
    {
      "cell_type": "markdown",
      "source": [
        "#Reshape the array into a 2x4 matrix."
      ],
      "metadata": {
        "id": "XblOFk-syl_2"
      }
    },
    {
      "cell_type": "code",
      "source": [
        "a=np.array([[1,2,3,5],[4,5,6,8]])\n",
        "b=a.reshape(2,4)\n",
        "print(b)"
      ],
      "metadata": {
        "colab": {
          "base_uri": "https://localhost:8080/"
        },
        "id": "QKo6IiENysDT",
        "outputId": "e75a0a35-b850-4f90-a3a0-b561a3861ea8"
      },
      "execution_count": null,
      "outputs": [
        {
          "output_type": "stream",
          "name": "stdout",
          "text": [
            "[[1 2 3 5]\n",
            " [4 5 6 8]]\n"
          ]
        }
      ]
    },
    {
      "cell_type": "markdown",
      "source": [
        "#sub-matrix containing the last two rows and first two columns."
      ],
      "metadata": {
        "id": "Zvqhisyx0Lw-"
      }
    },
    {
      "cell_type": "code",
      "source": [
        " a = np.array([[1, 2, 3], [4, 5, 6], [7, 8, 9]])\n",
        "print(a[1:,:2])"
      ],
      "metadata": {
        "colab": {
          "base_uri": "https://localhost:8080/"
        },
        "id": "vnnxkMSo0tUt",
        "outputId": "d5ad8403-5328-439d-963b-d200cb8fb29d"
      },
      "execution_count": null,
      "outputs": [
        {
          "output_type": "stream",
          "name": "stdout",
          "text": [
            "[[4 5]\n",
            " [7 8]]\n"
          ]
        }
      ]
    },
    {
      "cell_type": "markdown",
      "source": [
        "#Replace all elements greater than 4 with 0."
      ],
      "metadata": {
        "id": "ll9IwzG-1YkI"
      }
    },
    {
      "cell_type": "code",
      "source": [
        "a = np.array([[1, 2, 3], [4, 5, 6], [7, 8, 9]])\n",
        "a[a>4]=0\n",
        "print(a)"
      ],
      "metadata": {
        "colab": {
          "base_uri": "https://localhost:8080/"
        },
        "id": "CSglxvGT1k6m",
        "outputId": "8c91e9c8-767a-41b3-8cd8-b384043fe393"
      },
      "execution_count": null,
      "outputs": [
        {
          "output_type": "stream",
          "name": "stdout",
          "text": [
            "[[1 2 3]\n",
            " [4 0 0]\n",
            " [0 0 0]]\n"
          ]
        }
      ]
    },
    {
      "cell_type": "markdown",
      "source": [
        " # Create two 1D arrays"
      ],
      "metadata": {
        "id": "V2s5oyuS15PN"
      }
    },
    {
      "cell_type": "code",
      "source": [
        " a = np.array([1, 2, 3])\n",
        " b = np.array([4, 5, 6])\n",
        " print(a+b)\n",
        " print(a*b)\n",
        " print(a/b)"
      ],
      "metadata": {
        "colab": {
          "base_uri": "https://localhost:8080/"
        },
        "id": "OIZbpFMry2JM",
        "outputId": "60d140f0-362e-4ac7-c530-e2acb9a7ed81"
      },
      "execution_count": null,
      "outputs": [
        {
          "output_type": "stream",
          "name": "stdout",
          "text": [
            "[5 7 9]\n",
            "[ 4 10 18]\n",
            "[0.25 0.4  0.5 ]\n"
          ]
        }
      ]
    },
    {
      "cell_type": "markdown",
      "source": [
        "# Mean of each column"
      ],
      "metadata": {
        "id": "FJvuNreV2YNZ"
      }
    },
    {
      "cell_type": "code",
      "source": [
        "a=np.array([[1,2,3,4],[5,6,7,8],[9,1,2,3],[7,4,5,3]])\n",
        "print(np.mean(a,axis=0))"
      ],
      "metadata": {
        "colab": {
          "base_uri": "https://localhost:8080/"
        },
        "id": "LvEvXzMn2fZd",
        "outputId": "6c29f7cc-4d85-458b-a464-87a027486e04"
      },
      "execution_count": 7,
      "outputs": [
        {
          "output_type": "stream",
          "name": "stdout",
          "text": [
            "[5.5  3.25 4.25 4.5 ]\n"
          ]
        }
      ]
    },
    {
      "cell_type": "markdown",
      "source": [
        "# Maximum value of the entire array."
      ],
      "metadata": {
        "id": "tyvZixR92vD_"
      }
    },
    {
      "cell_type": "code",
      "source": [
        "a=np.array([[1,2,3,4],[5,6,7,8],[9,1,2,3],[7,4,5,3]])\n",
        "print(np.max(a))"
      ],
      "metadata": {
        "colab": {
          "base_uri": "https://localhost:8080/"
        },
        "id": "xXBaN73T2zGH",
        "outputId": "8744ab11-5b34-4498-b1a6-f0195fc35cd8"
      },
      "execution_count": null,
      "outputs": [
        {
          "output_type": "stream",
          "name": "stdout",
          "text": [
            "9\n"
          ]
        }
      ]
    },
    {
      "cell_type": "markdown",
      "source": [
        "# Sum of all elements."
      ],
      "metadata": {
        "id": "nKu99mnh3GFj"
      }
    },
    {
      "cell_type": "code",
      "source": [
        "a=np.array([[1,2,3,4],[5,6,7,8],[9,1,2,3],[7,4,5,3]])\n",
        "print(np.sum(a))"
      ],
      "metadata": {
        "colab": {
          "base_uri": "https://localhost:8080/"
        },
        "id": "5_OKD7hT3I2_",
        "outputId": "f5a8f4be-04a9-4a99-b441-d30c71ad2a0a"
      },
      "execution_count": null,
      "outputs": [
        {
          "output_type": "stream",
          "name": "stdout",
          "text": [
            "70\n"
          ]
        }
      ]
    },
    {
      "cell_type": "markdown",
      "source": [
        "# Add 10 to each element and multiply the result by 2."
      ],
      "metadata": {
        "id": "gazGOScj3XBE"
      }
    },
    {
      "cell_type": "code",
      "source": [
        " a = np.array([1, 2, 3, 4])\n",
        " print(2*(a+10))\n"
      ],
      "metadata": {
        "colab": {
          "base_uri": "https://localhost:8080/"
        },
        "id": "X8wwMURY3mlT",
        "outputId": "c92a0c75-fbb4-443a-d1df-155f42c4cf3b"
      },
      "execution_count": null,
      "outputs": [
        {
          "output_type": "stream",
          "name": "stdout",
          "text": [
            "[22 24 26 28]\n"
          ]
        }
      ]
    },
    {
      "cell_type": "markdown",
      "source": [
        "# Extract the second \"layer\"  in the first dimension."
      ],
      "metadata": {
        "id": "wPTB_ep032Ah"
      }
    },
    {
      "cell_type": "code",
      "source": [
        "a=np.random.randint(1,101,size=(3,4,5))\n",
        "second_layer=a[1]\n",
        "print(second_layer)"
      ],
      "metadata": {
        "colab": {
          "base_uri": "https://localhost:8080/"
        },
        "id": "y1CgDZgL4KK3",
        "outputId": "db55a905-64ff-42af-cdd8-fdaa7f57cd9b"
      },
      "execution_count": null,
      "outputs": [
        {
          "output_type": "stream",
          "name": "stdout",
          "text": [
            "[[83 64 74 69 88]\n",
            " [38 57 80 21 98]\n",
            " [ 9 51 97 91 64]\n",
            " [18 44 86 70 59]]\n"
          ]
        }
      ]
    },
    {
      "cell_type": "markdown",
      "source": [
        "# Extract the first two rows and the last three columns from each \"layer.\"\n"
      ],
      "metadata": {
        "id": "eaCTLevj5ADl"
      }
    },
    {
      "cell_type": "code",
      "source": [
        "a=np.random.randint(1,101,size=(3,4,5))\n",
        "print(a[:,:2,-3:])"
      ],
      "metadata": {
        "colab": {
          "base_uri": "https://localhost:8080/"
        },
        "id": "8Z-4W0fa5WmW",
        "outputId": "092362fd-1228-45ab-da91-f31503ac7e61"
      },
      "execution_count": null,
      "outputs": [
        {
          "output_type": "stream",
          "name": "stdout",
          "text": [
            "[[[99 97 70]\n",
            "  [80  8 99]]\n",
            "\n",
            " [[74 58  6]\n",
            "  [58 71 64]]\n",
            "\n",
            " [[98 76 74]\n",
            "  [65 40 47]]]\n"
          ]
        }
      ]
    },
    {
      "cell_type": "markdown",
      "source": [
        "#Replace all elements divisible by 3 with -1."
      ],
      "metadata": {
        "id": "ofBuZ8P_5sib"
      }
    },
    {
      "cell_type": "code",
      "source": [
        "a=np.random.randint(1,101,size=(3,4,5))\n",
        "a[a%3==0]=-1\n",
        "print(a)\n"
      ],
      "metadata": {
        "colab": {
          "base_uri": "https://localhost:8080/"
        },
        "id": "j-0Xzs-o5w9i",
        "outputId": "2f960822-90e4-4196-8fb2-5e4589de3028"
      },
      "execution_count": null,
      "outputs": [
        {
          "output_type": "stream",
          "name": "stdout",
          "text": [
            "[[[ -1  -1  -1  31  -1]\n",
            "  [ 31  -1  -1  -1  14]\n",
            "  [ 77  -1  14  13  71]\n",
            "  [ -1  -1  53  -1  74]]\n",
            "\n",
            " [[ 73  65  61  70  -1]\n",
            "  [ 98  31  32  37  50]\n",
            "  [ 86  91  77  25  86]\n",
            "  [  8  26  11  37  -1]]\n",
            "\n",
            " [[100  77  -1  -1   4]\n",
            "  [ 19 100  -1  38  43]\n",
            "  [ -1  -1  -1  -1  82]\n",
            "  [ -1  13  -1  80  -1]]]\n"
          ]
        }
      ]
    },
    {
      "cell_type": "markdown",
      "source": [
        "#Subtract the mean of each row from its respective elements"
      ],
      "metadata": {
        "id": "nM-13jro6kjx"
      }
    },
    {
      "cell_type": "code",
      "source": [
        "a=np.random.randint(1,21,size=(3,3))\n",
        "b=np.mean(a,axis=1,keepdims=True)\n",
        "print(a-b)\n"
      ],
      "metadata": {
        "colab": {
          "base_uri": "https://localhost:8080/"
        },
        "id": "iAzYjucg6sBf",
        "outputId": "ddfe43a9-7de2-4e47-e64f-ff5c61cacf75"
      },
      "execution_count": 4,
      "outputs": [
        {
          "output_type": "stream",
          "name": "stdout",
          "text": [
            "[[-6.          6.          0.        ]\n",
            " [ 4.33333333 -3.66666667 -0.66666667]\n",
            " [-3.          5.         -2.        ]]\n"
          ]
        }
      ]
    },
    {
      "cell_type": "markdown",
      "source": [
        "# Create a new array by squaring all the elements in arr."
      ],
      "metadata": {
        "id": "0ENVFQpG7Mj6"
      }
    },
    {
      "cell_type": "code",
      "source": [
        "a=np.random.randint(1,21,size=(3,3))\n",
        "b=a**2\n",
        "print(b)"
      ],
      "metadata": {
        "colab": {
          "base_uri": "https://localhost:8080/"
        },
        "id": "DoCeMW037RJJ",
        "outputId": "be7c4f2b-d4bb-4ab4-cbc5-99de7eb7b1ef"
      },
      "execution_count": null,
      "outputs": [
        {
          "output_type": "stream",
          "name": "stdout",
          "text": [
            "[[144  16  64]\n",
            " [ 36 400 361]\n",
            " [361   9  81]]\n"
          ]
        }
      ]
    },
    {
      "cell_type": "markdown",
      "source": [
        "# Find the indices of the top 3 maximum values in the entire array."
      ],
      "metadata": {
        "id": "cIXcgTVW7bIM"
      }
    },
    {
      "cell_type": "code",
      "source": [
        "import numpy as np\n",
        "a=np.random.randint(1,21,size=(3,3))\n",
        "b=np.argsort(a.ravel())[-3:]\n",
        "print(b)"
      ],
      "metadata": {
        "colab": {
          "base_uri": "https://localhost:8080/"
        },
        "id": "vExlsYRr7hWm",
        "outputId": "c31d9174-4e5a-4bed-c803-e36e154891dc"
      },
      "execution_count": 6,
      "outputs": [
        {
          "output_type": "stream",
          "name": "stdout",
          "text": [
            "[1 0 3]\n"
          ]
        }
      ]
    }
  ]
}