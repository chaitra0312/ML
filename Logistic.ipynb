{
  "nbformat": 4,
  "nbformat_minor": 0,
  "metadata": {
    "colab": {
      "provenance": [],
      "authorship_tag": "ABX9TyO2wuR/BzHQOpZZ7fszK8D8",
      "include_colab_link": true
    },
    "kernelspec": {
      "name": "python3",
      "display_name": "Python 3"
    },
    "language_info": {
      "name": "python"
    }
  },
  "cells": [
    {
      "cell_type": "markdown",
      "metadata": {
        "id": "view-in-github",
        "colab_type": "text"
      },
      "source": [
        "<a href=\"https://colab.research.google.com/github/chaitra0312/ML-workshop-/blob/main/Logistic.ipynb\" target=\"_parent\"><img src=\"https://colab.research.google.com/assets/colab-badge.svg\" alt=\"Open In Colab\"/></a>"
      ]
    },
    {
      "cell_type": "code",
      "source": [
        "!pip install numpy pandas scikit-learn"
      ],
      "metadata": {
        "colab": {
          "base_uri": "https://localhost:8080/"
        },
        "id": "NXSJnLuhAjtS",
        "outputId": "2fc9b4e1-0833-4179-8d9d-9a515d4fba27"
      },
      "execution_count": null,
      "outputs": [
        {
          "output_type": "stream",
          "name": "stdout",
          "text": [
            "Requirement already satisfied: numpy in /usr/local/lib/python3.10/dist-packages (1.26.4)\n",
            "Requirement already satisfied: pandas in /usr/local/lib/python3.10/dist-packages (2.2.2)\n",
            "Requirement already satisfied: scikit-learn in /usr/local/lib/python3.10/dist-packages (1.6.0)\n",
            "Requirement already satisfied: python-dateutil>=2.8.2 in /usr/local/lib/python3.10/dist-packages (from pandas) (2.8.2)\n",
            "Requirement already satisfied: pytz>=2020.1 in /usr/local/lib/python3.10/dist-packages (from pandas) (2024.2)\n",
            "Requirement already satisfied: tzdata>=2022.7 in /usr/local/lib/python3.10/dist-packages (from pandas) (2024.2)\n",
            "Requirement already satisfied: scipy>=1.6.0 in /usr/local/lib/python3.10/dist-packages (from scikit-learn) (1.13.1)\n",
            "Requirement already satisfied: joblib>=1.2.0 in /usr/local/lib/python3.10/dist-packages (from scikit-learn) (1.4.2)\n",
            "Requirement already satisfied: threadpoolctl>=3.1.0 in /usr/local/lib/python3.10/dist-packages (from scikit-learn) (3.5.0)\n",
            "Requirement already satisfied: six>=1.5 in /usr/local/lib/python3.10/dist-packages (from python-dateutil>=2.8.2->pandas) (1.17.0)\n"
          ]
        }
      ]
    },
    {
      "cell_type": "markdown",
      "source": [
        "#Import necessary libraries\n",
        "\n"
      ],
      "metadata": {
        "id": "j1sKiU_rDgaW"
      }
    },
    {
      "cell_type": "code",
      "execution_count": 27,
      "metadata": {
        "id": "4NyxAkhv-GUF"
      },
      "outputs": [],
      "source": [
        "import pandas as pd\n",
        "import numpy as np\n",
        "from sklearn.datasets import load_iris\n",
        "from sklearn.model_selection import train_test_split\n",
        "from sklearn.preprocessing import StandardScaler\n",
        "from sklearn.metrics import accuracy_score, precision_score, recall_score, f1_score\n",
        "from sklearn.linear_model import LogisticRegression\n",
        "from sklearn.naive_bayes import GaussianNB\n",
        "from sklearn.neighbors import KNeighborsClassifier\n",
        "from sklearn.tree import DecisionTreeClassifier\n",
        "from sklearn.svm import SVC"
      ]
    },
    {
      "cell_type": "markdown",
      "source": [
        "#Load the Iris dataset\n",
        "\n"
      ],
      "metadata": {
        "id": "tC69g2gaDuzR"
      }
    },
    {
      "cell_type": "code",
      "source": [
        "iris = load_iris()\n",
        "X = pd.DataFrame(iris.data, columns=iris.feature_names)\n",
        "y = iris.target"
      ],
      "metadata": {
        "id": "y7QEOnBf-gS9"
      },
      "execution_count": 28,
      "outputs": []
    },
    {
      "cell_type": "code",
      "source": [
        "data.shape"
      ],
      "metadata": {
        "colab": {
          "base_uri": "https://localhost:8080/"
        },
        "id": "EoOEOqK2-pT6",
        "outputId": "98e97a80-6a41-4d50-d9f2-6ec680a56a66"
      },
      "execution_count": null,
      "outputs": [
        {
          "output_type": "execute_result",
          "data": {
            "text/plain": [
              "(150, 6)"
            ]
          },
          "metadata": {},
          "execution_count": 21
        }
      ]
    },
    {
      "cell_type": "markdown",
      "source": [
        "#Split the dataset into training and test sets\n",
        "\n"
      ],
      "metadata": {
        "id": "_35U3qy5D0Na"
      }
    },
    {
      "cell_type": "code",
      "source": [
        "X_train, X_test, y_train, y_test = train_test_split(X, y, test_size=0.3, random_state=42)"
      ],
      "metadata": {
        "id": "UMmMwKSWC5Gm"
      },
      "execution_count": 29,
      "outputs": []
    },
    {
      "cell_type": "markdown",
      "source": [
        "#Standardize the features for KNN and SVC\n",
        "\n"
      ],
      "metadata": {
        "id": "aFxF55IjD3fj"
      }
    },
    {
      "cell_type": "code",
      "source": [
        "scaler = StandardScaler()\n",
        "X_train_scaled = scaler.fit_transform(X_train)\n",
        "X_test_scaled = scaler.transform(X_test)"
      ],
      "metadata": {
        "id": "I3iMwX2RC9pi"
      },
      "execution_count": 30,
      "outputs": []
    },
    {
      "cell_type": "markdown",
      "source": [
        "#Dictionary to store results\n",
        "\n"
      ],
      "metadata": {
        "id": "sxqqqyTAD6g9"
      }
    },
    {
      "cell_type": "code",
      "source": [
        "results = {}"
      ],
      "metadata": {
        "id": "jYlhoclyDAwi"
      },
      "execution_count": 31,
      "outputs": []
    },
    {
      "cell_type": "markdown",
      "source": [
        "#Function to evaluate model performance\n",
        "\n"
      ],
      "metadata": {
        "id": "goYTG0GkD76N"
      }
    },
    {
      "cell_type": "code",
      "source": [
        "def evaluate_model(model, X_train, X_test, y_train, y_test, model_name, scaled=False):\n",
        "    if scaled:\n",
        "        model.fit(X_train_scaled, y_train)\n",
        "        y_pred = model.predict(X_test_scaled)\n",
        "    else:\n",
        "        model.fit(X_train, y_train)\n",
        "        y_pred = model.predict(X_test)\n",
        "\n",
        "    accuracy = accuracy_score(y_test, y_pred)\n",
        "    precision = precision_score(y_test, y_pred, average=\"weighted\")\n",
        "    recall = recall_score(y_test, y_pred, average=\"weighted\")\n",
        "    f1 = f1_score(y_test, y_pred, average=\"weighted\")\n",
        "\n",
        "    results[model_name] = {\n",
        "        \"Accuracy\": accuracy,\n",
        "        \"Precision\": precision,\n",
        "        \"Recall\": recall,\n",
        "        \"F1-Score\": f1\n",
        "    }\n"
      ],
      "metadata": {
        "id": "OG9M7ST9DDfv"
      },
      "execution_count": 32,
      "outputs": []
    },
    {
      "cell_type": "markdown",
      "source": [
        "#Logistic Regression\n",
        "\n"
      ],
      "metadata": {
        "id": "PRcFW9upEAPF"
      }
    },
    {
      "cell_type": "code",
      "source": [
        "evaluate_model(LogisticRegression(), X_train, X_test, y_train, y_test, \"Logistic Regression\")"
      ],
      "metadata": {
        "id": "zXkBXmxKDHFh"
      },
      "execution_count": 33,
      "outputs": []
    },
    {
      "cell_type": "markdown",
      "source": [
        "#Naive Bayes\n",
        "\n"
      ],
      "metadata": {
        "id": "s7br5XQzEBWy"
      }
    },
    {
      "cell_type": "code",
      "source": [
        "evaluate_model(GaussianNB(), X_train, X_test, y_train, y_test, \"Naive Bayes\")"
      ],
      "metadata": {
        "id": "2Ku38PPCDKtO"
      },
      "execution_count": 34,
      "outputs": []
    },
    {
      "cell_type": "markdown",
      "source": [
        "#KNN"
      ],
      "metadata": {
        "id": "THV4cXg3ED8c"
      }
    },
    {
      "cell_type": "code",
      "source": [
        "evaluate_model(KNeighborsClassifier(n_neighbors=3), X_train, X_test, y_train, y_test, \"KNN\", scaled=True)"
      ],
      "metadata": {
        "id": "yxUZG9e9DOo4"
      },
      "execution_count": 35,
      "outputs": []
    },
    {
      "cell_type": "markdown",
      "source": [
        "#Decision Tree\n",
        "\n"
      ],
      "metadata": {
        "id": "07CcqHlYEHvv"
      }
    },
    {
      "cell_type": "code",
      "source": [
        "evaluate_model(DecisionTreeClassifier(random_state=42), X_train, X_test, y_train, y_test, \"Decision Tree\")"
      ],
      "metadata": {
        "id": "wV8Ef46_DReq"
      },
      "execution_count": 36,
      "outputs": []
    },
    {
      "cell_type": "markdown",
      "source": [
        "#Support Vector Classifier (SVC)\n",
        "\n",
        "\n",
        "\n"
      ],
      "metadata": {
        "id": "YisQ80PoEKkv"
      }
    },
    {
      "cell_type": "code",
      "source": [
        "evaluate_model(SVC(kernel=\"linear\", random_state=42), X_train, X_test, y_train, y_test, \"SVC\", scaled=True)"
      ],
      "metadata": {
        "id": "f-TH0anNDVNm"
      },
      "execution_count": 37,
      "outputs": []
    },
    {
      "cell_type": "markdown",
      "source": [],
      "metadata": {
        "id": "Fy05GLqLERfi"
      }
    },
    {
      "cell_type": "markdown",
      "source": [
        "#Display results\n",
        "\n"
      ],
      "metadata": {
        "id": "ZN5JodVhESxn"
      }
    },
    {
      "cell_type": "code",
      "source": [
        "results_df = pd.DataFrame(results).T\n",
        "print(\"\\nModel Performance Metrics:\")\n",
        "print(results_df)"
      ],
      "metadata": {
        "colab": {
          "base_uri": "https://localhost:8080/"
        },
        "id": "-4U4xkqLDcsR",
        "outputId": "4c1d5f33-292e-4196-c5ae-b633cca7f28e"
      },
      "execution_count": 38,
      "outputs": [
        {
          "output_type": "stream",
          "name": "stdout",
          "text": [
            "\n",
            "Model Performance Metrics:\n",
            "                     Accuracy  Precision    Recall  F1-Score\n",
            "Logistic Regression  1.000000   1.000000  1.000000  1.000000\n",
            "Naive Bayes          0.977778   0.979365  0.977778  0.977745\n",
            "KNN                  1.000000   1.000000  1.000000  1.000000\n",
            "Decision Tree        1.000000   1.000000  1.000000  1.000000\n",
            "SVC                  0.977778   0.979365  0.977778  0.977745\n"
          ]
        }
      ]
    }
  ]
}