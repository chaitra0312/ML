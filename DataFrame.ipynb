{
  "nbformat": 4,
  "nbformat_minor": 0,
  "metadata": {
    "colab": {
      "provenance": [],
      "authorship_tag": "ABX9TyOrUWa5JclYdloxc9npBLAj",
      "include_colab_link": true
    },
    "kernelspec": {
      "name": "python3",
      "display_name": "Python 3"
    },
    "language_info": {
      "name": "python"
    }
  },
  "cells": [
    {
      "cell_type": "markdown",
      "metadata": {
        "id": "view-in-github",
        "colab_type": "text"
      },
      "source": [
        "<a href=\"https://colab.research.google.com/github/chaitra0312/ML-workshop-/blob/main/DataFrame.ipynb\" target=\"_parent\"><img src=\"https://colab.research.google.com/assets/colab-badge.svg\" alt=\"Open In Colab\"/></a>"
      ]
    },
    {
      "cell_type": "markdown",
      "source": [
        "# Create a DataFrame and add a Bonus column"
      ],
      "metadata": {
        "id": "8G2TzcvfChPU"
      }
    },
    {
      "cell_type": "code",
      "execution_count": 1,
      "metadata": {
        "colab": {
          "base_uri": "https://localhost:8080/"
        },
        "id": "VXzmXMIkCJCx",
        "outputId": "1c714d2c-139e-42d5-85cb-8ef1159f2cba"
      },
      "outputs": [
        {
          "output_type": "stream",
          "name": "stdout",
          "text": [
            "    Name  Age  Salary   Bonus\n",
            "0  Alice   24   50000  5000.0\n",
            "1    Bob   27   55000  5500.0\n",
            "2  Carol   22   48000  4800.0\n"
          ]
        }
      ],
      "source": [
        "import pandas as pd\n",
        "import numpy as np\n",
        "data = {\n",
        "    'Name': ['Alice', 'Bob', 'Carol'],\n",
        "    'Age': [24, 27, 22],\n",
        "    'Salary': [50000, 55000, 48000]\n",
        "}\n",
        "df1=pd.DataFrame(data)\n",
        "df1['Bonus']=df1['Salary']*0.1\n",
        "print(df1)"
      ]
    },
    {
      "cell_type": "markdown",
      "source": [
        "# Display first two rows and compute mean salary"
      ],
      "metadata": {
        "id": "Vm7SqIzWDHxZ"
      }
    },
    {
      "cell_type": "code",
      "source": [
        "df1.head(2)\n",
        "print(df1)\n",
        "mean=df1['Salary'].mean()\n",
        "print(mean)"
      ],
      "metadata": {
        "colab": {
          "base_uri": "https://localhost:8080/"
        },
        "id": "2vJ-ibqXDLgG",
        "outputId": "f7907aaa-b938-4a53-c65f-431ebb5d5bd0"
      },
      "execution_count": 3,
      "outputs": [
        {
          "output_type": "stream",
          "name": "stdout",
          "text": [
            "    Name  Age  Salary   Bonus\n",
            "0  Alice   24   50000  5000.0\n",
            "1    Bob   27   55000  5500.0\n",
            "2  Carol   22   48000  4800.0\n",
            "51000.0\n"
          ]
        }
      ]
    },
    {
      "cell_type": "markdown",
      "source": [
        "# Filter rows based on Age and Salary"
      ],
      "metadata": {
        "id": "s3p62B2CDmfI"
      }
    },
    {
      "cell_type": "code",
      "source": [
        "Age=df1[df1['Age']>25]\n",
        "print(Age)\n",
        "Salary=df1[df1['Salary']>5000]\n",
        "print(Salary)"
      ],
      "metadata": {
        "colab": {
          "base_uri": "https://localhost:8080/"
        },
        "id": "sbmLeUIkDrF9",
        "outputId": "a4807a9e-9daf-40e3-c8ba-e9f74b32e937"
      },
      "execution_count": 5,
      "outputs": [
        {
          "output_type": "stream",
          "name": "stdout",
          "text": [
            "  Name  Age  Salary   Bonus\n",
            "1  Bob   27   55000  5500.0\n",
            "    Name  Age  Salary   Bonus\n",
            "0  Alice   24   50000  5000.0\n",
            "1    Bob   27   55000  5500.0\n",
            "2  Carol   22   48000  4800.0\n"
          ]
        }
      ]
    },
    {
      "cell_type": "markdown",
      "source": [
        "# Handle missing values"
      ],
      "metadata": {
        "id": "LsRr478CEW-u"
      }
    },
    {
      "cell_type": "code",
      "source": [
        "data_missing = {\n",
        "    'A': [1, 2, None, 4],\n",
        "    'B': [None, 2, 3, None],\n",
        "    'C': [1, 2, 3, 4]\n",
        "}\n",
        "df2=pd.DataFrame(data_missing)\n",
        "df2.fillna(0,inplace=True)\n",
        "df2.dropna(inplace=True)\n",
        "print(df2)"
      ],
      "metadata": {
        "colab": {
          "base_uri": "https://localhost:8080/"
        },
        "id": "R4MbHtAiEjzV",
        "outputId": "3e6ac172-8ae8-4fdb-b3a2-a3afcc917b1b"
      },
      "execution_count": 8,
      "outputs": [
        {
          "output_type": "stream",
          "name": "stdout",
          "text": [
            "     A    B  C\n",
            "0  1.0  0.0  1\n",
            "1  2.0  2.0  2\n",
            "2  0.0  3.0  3\n",
            "3  4.0  0.0  4\n"
          ]
        }
      ]
    },
    {
      "cell_type": "markdown",
      "source": [
        "# Grouping and Aggregation"
      ],
      "metadata": {
        "id": "NO32j-e2GOMB"
      }
    },
    {
      "cell_type": "code",
      "source": [
        "data_employees = {\n",
        "    'Department': ['HR', 'HR', 'IT', 'IT', 'Finance'],\n",
        "    'Employee': ['Alice', 'Bob', 'Carol', 'David', 'Eve'],\n",
        "    'Salary': [50000, 45000, 60000, 65000, 70000]\n",
        "}\n",
        "df3=pd.DataFrame(data_employees)\n",
        "grouped=df3.groupby('Department')['Salary'].agg(['sum','mean'])\n",
        "print(grouped)\n"
      ],
      "metadata": {
        "colab": {
          "base_uri": "https://localhost:8080/"
        },
        "id": "hIj9myn1Ea-m",
        "outputId": "b6a4dbe2-02ea-491a-eed8-d49e40ca494d"
      },
      "execution_count": 12,
      "outputs": [
        {
          "output_type": "stream",
          "name": "stdout",
          "text": [
            "               sum     mean\n",
            "Department                 \n",
            "Finance      70000  70000.0\n",
            "HR           95000  47500.0\n",
            "IT          125000  62500.0\n"
          ]
        }
      ]
    },
    {
      "cell_type": "markdown",
      "source": [
        "# Perform an inner join"
      ],
      "metadata": {
        "id": "UFPyNOyBHcFH"
      }
    },
    {
      "cell_type": "code",
      "source": [
        "df4 = pd.DataFrame({'ID': [1, 2, 3], 'Name': ['Alice', 'Bob', 'Carol']})\n",
        "df5 = pd.DataFrame({'ID': [2, 3, 4], 'Age': [25, 30, 22]})\n",
        "join=pd.merge(df4,df5,on='ID',how='inner')\n",
        "print(join)"
      ],
      "metadata": {
        "colab": {
          "base_uri": "https://localhost:8080/"
        },
        "id": "rRLTWV6fHgPh",
        "outputId": "24ae7537-992b-4eec-d43d-82309b82ef38"
      },
      "execution_count": 13,
      "outputs": [
        {
          "output_type": "stream",
          "name": "stdout",
          "text": [
            "   ID   Name  Age\n",
            "0   2    Bob   25\n",
            "1   3  Carol   30\n"
          ]
        }
      ]
    },
    {
      "cell_type": "markdown",
      "source": [
        "# Clean dataset and display statistics"
      ],
      "metadata": {
        "id": "HiH61sLSIBho"
      }
    },
    {
      "cell_type": "code",
      "source": [
        "print(df5.describe())"
      ],
      "metadata": {
        "colab": {
          "base_uri": "https://localhost:8080/"
        },
        "id": "CkRVPmxQIG-f",
        "outputId": "3b30e3d9-fb92-4ace-af9d-78775f73b757"
      },
      "execution_count": 14,
      "outputs": [
        {
          "output_type": "stream",
          "name": "stdout",
          "text": [
            "        ID        Age\n",
            "count  3.0   3.000000\n",
            "mean   3.0  25.666667\n",
            "std    1.0   4.041452\n",
            "min    2.0  22.000000\n",
            "25%    2.5  23.500000\n",
            "50%    3.0  25.000000\n",
            "75%    3.5  27.500000\n",
            "max    4.0  30.000000\n"
          ]
        }
      ]
    },
    {
      "cell_type": "markdown",
      "source": [
        "# EDA on Titanic datase,Load Titanic dataset"
      ],
      "metadata": {
        "id": "owD5nFMDISP6"
      }
    },
    {
      "cell_type": "code",
      "source": [
        "titanic=pd.read_csv('/content/Titanic-Dataset.csv')\n",
        "print(titanic)"
      ],
      "metadata": {
        "colab": {
          "base_uri": "https://localhost:8080/"
        },
        "id": "9lnhiB3DIde8",
        "outputId": "b21bef75-4e7e-458a-a093-d0713e365793"
      },
      "execution_count": 17,
      "outputs": [
        {
          "output_type": "stream",
          "name": "stdout",
          "text": [
            "     PassengerId  Survived  Pclass  \\\n",
            "0              1         0       3   \n",
            "1              2         1       1   \n",
            "2              3         1       3   \n",
            "3              4         1       1   \n",
            "4              5         0       3   \n",
            "..           ...       ...     ...   \n",
            "886          887         0       2   \n",
            "887          888         1       1   \n",
            "888          889         0       3   \n",
            "889          890         1       1   \n",
            "890          891         0       3   \n",
            "\n",
            "                                                  Name     Sex   Age  SibSp  \\\n",
            "0                              Braund, Mr. Owen Harris    male  22.0      1   \n",
            "1    Cumings, Mrs. John Bradley (Florence Briggs Th...  female  38.0      1   \n",
            "2                               Heikkinen, Miss. Laina  female  26.0      0   \n",
            "3         Futrelle, Mrs. Jacques Heath (Lily May Peel)  female  35.0      1   \n",
            "4                             Allen, Mr. William Henry    male  35.0      0   \n",
            "..                                                 ...     ...   ...    ...   \n",
            "886                              Montvila, Rev. Juozas    male  27.0      0   \n",
            "887                       Graham, Miss. Margaret Edith  female  19.0      0   \n",
            "888           Johnston, Miss. Catherine Helen \"Carrie\"  female   NaN      1   \n",
            "889                              Behr, Mr. Karl Howell    male  26.0      0   \n",
            "890                                Dooley, Mr. Patrick    male  32.0      0   \n",
            "\n",
            "     Parch            Ticket     Fare Cabin Embarked  \n",
            "0        0         A/5 21171   7.2500   NaN        S  \n",
            "1        0          PC 17599  71.2833   C85        C  \n",
            "2        0  STON/O2. 3101282   7.9250   NaN        S  \n",
            "3        0            113803  53.1000  C123        S  \n",
            "4        0            373450   8.0500   NaN        S  \n",
            "..     ...               ...      ...   ...      ...  \n",
            "886      0            211536  13.0000   NaN        S  \n",
            "887      0            112053  30.0000   B42        S  \n",
            "888      2        W./C. 6607  23.4500   NaN        S  \n",
            "889      0            111369  30.0000  C148        C  \n",
            "890      0            370376   7.7500   NaN        Q  \n",
            "\n",
            "[891 rows x 12 columns]\n"
          ]
        }
      ]
    },
    {
      "cell_type": "markdown",
      "source": [
        "# Missing values"
      ],
      "metadata": {
        "id": "dQbCBT3zI7lh"
      }
    },
    {
      "cell_type": "code",
      "source": [
        "missing=titanic.isnull().sum()\n",
        "print(missing)"
      ],
      "metadata": {
        "colab": {
          "base_uri": "https://localhost:8080/"
        },
        "id": "mhLxVy3eI_iO",
        "outputId": "a3c1f8f1-e225-4a5e-c139-2e53d5174669"
      },
      "execution_count": 18,
      "outputs": [
        {
          "output_type": "stream",
          "name": "stdout",
          "text": [
            "PassengerId      0\n",
            "Survived         0\n",
            "Pclass           0\n",
            "Name             0\n",
            "Sex              0\n",
            "Age            177\n",
            "SibSp            0\n",
            "Parch            0\n",
            "Ticket           0\n",
            "Fare             0\n",
            "Cabin          687\n",
            "Embarked         2\n",
            "dtype: int64\n"
          ]
        }
      ]
    },
    {
      "cell_type": "markdown",
      "source": [
        "# Average age"
      ],
      "metadata": {
        "id": "A_I78TavJSMf"
      }
    },
    {
      "cell_type": "code",
      "source": [
        "age=titanic['Age'].mean()\n",
        "print(age)"
      ],
      "metadata": {
        "colab": {
          "base_uri": "https://localhost:8080/"
        },
        "id": "jtiKlB6_JV3S",
        "outputId": "8e3e1822-b71c-41a7-834d-191f0a67f6ba"
      },
      "execution_count": 20,
      "outputs": [
        {
          "output_type": "stream",
          "name": "stdout",
          "text": [
            "29.69911764705882\n"
          ]
        }
      ]
    },
    {
      "cell_type": "markdown",
      "source": [
        "# Survival rate by gender"
      ],
      "metadata": {
        "id": "mbDa3rRAJlRw"
      }
    },
    {
      "cell_type": "code",
      "source": [
        "gender=titanic.groupby('Sex')['Survived'].mean()\n",
        "print(gender)"
      ],
      "metadata": {
        "colab": {
          "base_uri": "https://localhost:8080/"
        },
        "id": "yLMUwCylJpdW",
        "outputId": "a6bdd23f-e479-4cd9-f99e-d11047435b43"
      },
      "execution_count": 21,
      "outputs": [
        {
          "output_type": "stream",
          "name": "stdout",
          "text": [
            "Sex\n",
            "female    0.742038\n",
            "male      0.188908\n",
            "Name: Survived, dtype: float64\n"
          ]
        }
      ]
    },
    {
      "cell_type": "markdown",
      "source": [
        "# Data Transformation,Example temperature dataset"
      ],
      "metadata": {
        "id": "RcKAL3XBKBw4"
      }
    },
    {
      "cell_type": "code",
      "source": [
        "temp_data = {\n",
        "    'Date': ['2024-12-20', '2024-12-21', '2024-12-22'],\n",
        "    'Temperature': [15, 25, 5]\n",
        "}\n",
        "temp=pd.DataFrame(temp_data)"
      ],
      "metadata": {
        "id": "eiW412WPKI4x"
      },
      "execution_count": 30,
      "outputs": []
    },
    {
      "cell_type": "markdown",
      "source": [
        "# Convert Date to DateTime"
      ],
      "metadata": {
        "id": "qvRUrhShKdDT"
      }
    },
    {
      "cell_type": "code",
      "source": [
        "temp['Date']=pd.to_datetime(temp['Date'])\n",
        "print(temp)"
      ],
      "metadata": {
        "colab": {
          "base_uri": "https://localhost:8080/"
        },
        "id": "hFKXqvNbKg_f",
        "outputId": "1e4c2bec-96e2-4623-e384-1e2d8497debc"
      },
      "execution_count": 31,
      "outputs": [
        {
          "output_type": "stream",
          "name": "stdout",
          "text": [
            "        Date  Temperature\n",
            "0 2024-12-20           15\n",
            "1 2024-12-21           25\n",
            "2 2024-12-22            5\n"
          ]
        }
      ]
    },
    {
      "cell_type": "markdown",
      "source": [
        "# Categorize temperatures"
      ],
      "metadata": {
        "id": "4qP3Zos5K_YG"
      }
    },
    {
      "cell_type": "code",
      "source": [
        "def categorize_temp(temp):\n",
        "  if temp >= 20:\n",
        "    return 'High'\n",
        "  elif 10 <= temp < 20:\n",
        "    return 'Medium'\n",
        "  else:\n",
        "    return 'Low'\n",
        "temp['Catagory']=temp['Temperature'].apply(categorize_temp)\n",
        "print(temp)"
      ],
      "metadata": {
        "colab": {
          "base_uri": "https://localhost:8080/"
        },
        "id": "a_QULsifLFai",
        "outputId": "d9a61692-631a-4aea-f050-c7b9dd9a7ceb"
      },
      "execution_count": 28,
      "outputs": [
        {
          "output_type": "stream",
          "name": "stdout",
          "text": [
            "        Date  Temperature Catagory\n",
            "0 2024-12-20           15   Medium\n",
            "1 2024-12-21           25     High\n",
            "2 2024-12-22            5      Low\n"
          ]
        }
      ]
    }
  ]
}